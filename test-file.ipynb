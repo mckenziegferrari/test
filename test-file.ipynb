{
 "cells": [
  {
   "cell_type": "code",
   "execution_count": 13,
   "metadata": {},
   "outputs": [],
   "source": [
    "class Particle(object):\n",
    "    def __init__(self):\n",
    "        pass\n",
    "\n",
    "class FreeFallParticle(Particle):\n",
    "    def __init__(self, height, dt=0.1):\n",
    "        ## the input 'self' is required for functions that belong to an object,\n",
    "        ## meaning that you want to make the function access and/or depend\n",
    "        ## on the attributes of the object (e.g., self.time and self.velocity below)\n",
    "\n",
    "        ## initializing the parent class, which is currently empty because it is blank\n",
    "        super().__init__()  ## currently not doing anything\n",
    "\n",
    "        ## adding attributes\n",
    "        self.height = height  ## current height [m]\n",
    "        self.velocity = 0  ## current velocity [m/s]\n",
    "        self.time = 0  ## time elapsed [s]\n",
    "        self.dt = dt  ## timestep of the simulation [s]\n",
    "        self.g = -9.8  ## grav. accel. [m/s/s]\n",
    "\n",
    "    def get_num_steps_run(self):\n",
    "        num_steps = int(self.time / self.dt)\n",
    "        return num_steps\n",
    "\n",
    "    def simulate_timestep(self):\n",
    "        self.velocity += self.g * self.dt\n",
    "        self.height += self.velocity * self.dt\n",
    "        self.time += self.dt\n",
    "        return self.height"
   ]
  },
  {
   "cell_type": "code",
   "execution_count": 15,
   "metadata": {},
   "outputs": [
    {
     "name": "stdout",
     "output_type": "stream",
     "text": [
      "0 10\n",
      "1.4285700000008914 -4.99999406707115e-05\n"
     ]
    }
   ],
   "source": [
    "ball = FreeFallParticle(10, dt=0.00001)\n",
    "print(ball.time, ball.height)\n",
    "\n",
    "while ball.height > 0:\n",
    "    ball.simulate_timestep()\n",
    "print(ball.time, ball.height)"
   ]
  },
  {
   "cell_type": "code",
   "execution_count": 17,
   "metadata": {},
   "outputs": [
    {
     "name": "stdout",
     "output_type": "stream",
     "text": [
      "took  4.5179999999998435 seconds -0.042525799994622235\n"
     ]
    }
   ],
   "source": [
    "ball = FreeFallParticle(100, dt=0.001)\n",
    "while ball.height > 0:\n",
    "    ball.simulate_timestep()\n",
    "print('took ', ball.time, 'seconds', ball.height)"
   ]
  },
  {
   "cell_type": "code",
   "execution_count": null,
   "metadata": {},
   "outputs": [],
   "source": []
  }
 ],
 "metadata": {
  "kernelspec": {
   "display_name": "Python 3",
   "language": "python",
   "name": "python3"
  },
  "language_info": {
   "codemirror_mode": {
    "name": "ipython",
    "version": 3
   },
   "file_extension": ".py",
   "mimetype": "text/x-python",
   "name": "python",
   "nbconvert_exporter": "python",
   "pygments_lexer": "ipython3",
   "version": "3.10.12"
  }
 },
 "nbformat": 4,
 "nbformat_minor": 2
}
